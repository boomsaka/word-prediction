{
 "cells": [
  {
   "cell_type": "code",
   "execution_count": 31,
   "metadata": {},
   "outputs": [],
   "source": [
    "import numpy as np\n",
    "from nltk.tokenize import RegexpTokenizer\n",
    "from keras.models import Sequential, load_model\n",
    "from keras.layers import LSTM, Dropout\n",
    "from keras.layers.core import Dense, Activation\n",
    "from keras.optimizers import RMSprop\n",
    "import matplotlib.pyplot as plt\n",
    "import pickle\n",
    "import heapq"
   ]
  },
  {
   "cell_type": "code",
   "execution_count": 84,
   "metadata": {},
   "outputs": [
    {
     "name": "stdout",
     "output_type": "stream",
     "text": [
      "corpus length: 2000000\n"
     ]
    }
   ],
   "source": [
    "text = open('xab').read().lower() #only 2MB\n",
    "print('corpus length:', len(text))"
   ]
  },
  {
   "cell_type": "code",
   "execution_count": 85,
   "metadata": {},
   "outputs": [],
   "source": [
    "tokenizer = RegexpTokenizer(r'\\w+')\n",
    "words = tokenizer.tokenize(text)"
   ]
  },
  {
   "cell_type": "code",
   "execution_count": 86,
   "metadata": {},
   "outputs": [],
   "source": [
    "unique_words = list(set(words))\n",
    "unique_word_index = dict((c, i) for i, c in enumerate(unique_words))"
   ]
  },
  {
   "cell_type": "code",
   "execution_count": 99,
   "metadata": {},
   "outputs": [],
   "source": [
    "word_window = 5 # Number of words to use to predict the next one  \n",
    "sentences = [] # training data\n",
    "next_words = [] # training labels\n",
    "for i in range(len(words) - word_window):\n",
    "    sentences.append(words[i:i + word_window])\n",
    "    next_words.append(words[i + word_window])"
   ]
  },
  {
   "cell_type": "code",
   "execution_count": 88,
   "metadata": {},
   "outputs": [],
   "source": [
    "X = np.zeros((len(sentences), word_window, len(unique_words)), dtype=bool)\n",
    "Y = np.zeros((len(next_words), len(unique_words)), dtype=bool)\n",
    "for i, each_words in enumerate(sentences):\n",
    "    for j, each_word in enumerate(each_words):\n",
    "        X[i, j, unique_word_index[each_word]] = 1\n",
    "    Y[i, unique_word_index[next_words[i]]] = 1"
   ]
  },
  {
   "cell_type": "code",
   "execution_count": 32,
   "metadata": {},
   "outputs": [],
   "source": [
    "model = Sequential()\n",
    "model.add(LSTM(128, input_shape=(word_window, len(unique_words)),return_sequences=True))\n",
    "model.add(Dropout(0.2))\n",
    "model.add(LSTM(units=128, return_sequences=True))\n",
    "model.add(Dropout(0.2))\n",
    "model.add(LSTM(units=128, return_sequences=False))\n",
    "model.add(Dense(len(unique_words), activation='softmax'))"
   ]
  },
  {
   "cell_type": "code",
   "execution_count": 33,
   "metadata": {},
   "outputs": [
    {
     "name": "stdout",
     "output_type": "stream",
     "text": [
      "Train on 303937 samples, validate on 15997 samples\n",
      "Epoch 1/5\n",
      "303937/303937 [==============================] - 1242s 4ms/step - loss: 7.2841 - accuracy: 0.0907 - val_loss: 6.7362 - val_accuracy: 0.1460\n",
      "Epoch 2/5\n",
      "303937/303937 [==============================] - 1219s 4ms/step - loss: 7.0179 - accuracy: 0.1578 - val_loss: 6.5314 - val_accuracy: 0.1848\n",
      "Epoch 3/5\n",
      "303937/303937 [==============================] - 1222s 4ms/step - loss: 6.6960 - accuracy: 0.1952 - val_loss: 6.4673 - val_accuracy: 0.1938\n",
      "Epoch 4/5\n",
      "303937/303937 [==============================] - 1220s 4ms/step - loss: 6.4418 - accuracy: 0.2231 - val_loss: 6.4938 - val_accuracy: 0.2002\n",
      "Epoch 5/5\n",
      "303937/303937 [==============================] - 1221s 4ms/step - loss: 6.2083 - accuracy: 0.2490 - val_loss: 6.5314 - val_accuracy: 0.1955\n"
     ]
    }
   ],
   "source": [
    "model.compile(loss='categorical_crossentropy', optimizer=RMSprop(lr=0.01), metrics=['accuracy'])\n",
    "history = model.fit(X, Y, validation_split=0.05, batch_size=128, epochs=5, shuffle=True).history"
   ]
  },
  {
   "cell_type": "code",
   "execution_count": 36,
   "metadata": {},
   "outputs": [],
   "source": [
    "model.save('model1.h5')\n",
    "pickle.dump(history, open(\"history_1.p\", \"wb\"))"
   ]
  },
  {
   "cell_type": "code",
   "execution_count": 37,
   "metadata": {},
   "outputs": [],
   "source": [
    "model = load_model('model1.h5')\n",
    "history = pickle.load(open(\"history_1.p\", \"rb\"))"
   ]
  },
  {
   "cell_type": "code",
   "execution_count": 89,
   "metadata": {},
   "outputs": [],
   "source": [
    "def prepare_input(text):\n",
    "    x = np.zeros((1, word_window, len(unique_words)))\n",
    "    for t, word in enumerate(text.split()):\n",
    "        print(word)\n",
    "        x[0, t, unique_word_index[word]] = 1\n",
    "    return x"
   ]
  },
  {
   "cell_type": "code",
   "execution_count": 90,
   "metadata": {},
   "outputs": [],
   "source": [
    "def sample(preds, top_n=3):\n",
    "    preds = np.asarray(preds).astype('float64')\n",
    "    preds = np.log(preds)\n",
    "    exp_preds = np.exp(preds)\n",
    "    preds = exp_preds / np.sum(exp_preds)\n",
    "\n",
    "    return heapq.nlargest(top_n, range(len(preds)), preds.take)"
   ]
  },
  {
   "cell_type": "code",
   "execution_count": 91,
   "metadata": {},
   "outputs": [],
   "source": [
    "def predict_completions(text, n=3):\n",
    "    if text == \"\":\n",
    "        return(\"0\")\n",
    "    x = prepare_input(text)\n",
    "    preds = model.predict(x, verbose=0)[0]\n",
    "    next_indices = sample(preds, n)\n",
    "    return [unique_words[idx] for idx in next_indices]"
   ]
  },
  {
   "cell_type": "code",
   "execution_count": 92,
   "metadata": {},
   "outputs": [],
   "source": [
    "def get_predictions(text):\n",
    "    q = text\n",
    "    seq = \" \".join(tokenizer.tokenize(q.lower())[0:5])\n",
    "    print(\"Next Possible Words: \", predict_completions(seq, 5))"
   ]
  },
  {
   "cell_type": "code",
   "execution_count": 93,
   "metadata": {},
   "outputs": [
    {
     "name": "stdout",
     "output_type": "stream",
     "text": [
      "thank\n",
      "you\n",
      "for\n",
      "letting\n",
      "me\n",
      "Next Possible Words:  ['if', 'you', 'and', 'for', 'in']\n"
     ]
    }
   ],
   "source": [
    "get_predictions(\"Thank you for letting me\")"
   ]
  },
  {
   "cell_type": "code",
   "execution_count": 94,
   "metadata": {},
   "outputs": [
    {
     "name": "stdout",
     "output_type": "stream",
     "text": [
      "if\n",
      "you\n",
      "have\n",
      "any\n",
      "questions\n",
      "Next Possible Words:  ['or', 'please', 'messagefrom', 'if', 'thank']\n"
     ]
    }
   ],
   "source": [
    "get_predictions(\"If you have any questions\")"
   ]
  },
  {
   "cell_type": "code",
   "execution_count": 95,
   "metadata": {},
   "outputs": [
    {
     "name": "stdout",
     "output_type": "stream",
     "text": [
      "hope\n",
      "we\n",
      "can\n",
      "connect\n",
      "with\n",
      "Next Possible Words:  ['a', 'you', 'original', 'email', 'your']\n"
     ]
    }
   ],
   "source": [
    "get_predictions(\"Hope we can connect with\")"
   ]
  },
  {
   "cell_type": "code",
   "execution_count": 96,
   "metadata": {},
   "outputs": [
    {
     "name": "stdout",
     "output_type": "stream",
     "text": [
      "let\n",
      "us\n",
      "schedule\n",
      "a\n",
      "Next Possible Words:  ['of', 'and', 'party', 'you', 'game']\n"
     ]
    }
   ],
   "source": [
    "get_predictions(\"Let us schedule a\")"
   ]
  },
  {
   "cell_type": "code",
   "execution_count": 97,
   "metadata": {},
   "outputs": [
    {
     "name": "stdout",
     "output_type": "stream",
     "text": [
      "can\n",
      "you\n",
      "please\n",
      "send\n",
      "us\n",
      "Next Possible Words:  ['to', 'me', 'out', 'your', 'a']\n"
     ]
    }
   ],
   "source": [
    "get_predictions(\"Can you please send us\")"
   ]
  },
  {
   "cell_type": "code",
   "execution_count": 98,
   "metadata": {},
   "outputs": [
    {
     "name": "stdout",
     "output_type": "stream",
     "text": [
      "what\n",
      "do\n",
      "you\n",
      "think\n",
      "about\n",
      "Next Possible Words:  ['you', 'the', 'beth', 'my', 'i']\n"
     ]
    }
   ],
   "source": [
    "get_predictions(\"What do you think about\")"
   ]
  }
 ],
 "metadata": {
  "kernelspec": {
   "display_name": "Python 3",
   "language": "python",
   "name": "python3"
  },
  "language_info": {
   "codemirror_mode": {
    "name": "ipython",
    "version": 3
   },
   "file_extension": ".py",
   "mimetype": "text/x-python",
   "name": "python",
   "nbconvert_exporter": "python",
   "pygments_lexer": "ipython3",
   "version": "3.7.6"
  }
 },
 "nbformat": 4,
 "nbformat_minor": 4
}
