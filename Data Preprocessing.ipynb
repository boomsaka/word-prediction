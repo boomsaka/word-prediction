{
 "cells": [
  {
   "cell_type": "code",
   "execution_count": 1,
   "metadata": {},
   "outputs": [],
   "source": [
    "import nltk\n",
    "import numpy as np\n",
    "import random\n",
    "import string\n",
    "import pandas as pd\n",
    "\n",
    "from google.cloud import storage\n",
    "import os\n",
    "from io import BytesIO\n",
    "\n",
    "#Connect to GCP bucket and assign the bucket_name and specify the file name\n",
    "bucket_name = \"jupyter-pyspark\" #Assign the bucket name where your file is stored\n",
    "storage_client = storage.Client()\n",
    "\n",
    "bucket = storage_client.get_bucket(bucket_name)\n",
    "\n",
    "blob = storage.blob.Blob(\"emails.csv\",bucket)"
   ]
  },
  {
   "cell_type": "code",
   "execution_count": 2,
   "metadata": {},
   "outputs": [
    {
     "name": "stderr",
     "output_type": "stream",
     "text": [
      "/home/mli222/anaconda3/lib/python3.7/site-packages/ipykernel_launcher.py:3: FutureWarning: Passing a negative integer is deprecated in version 1.0 and will not be supported in future version. Instead, use None to not limit the column width.\n",
      "  This is separate from the ipykernel package so we can avoid doing imports until\n"
     ]
    }
   ],
   "source": [
    "# Create a pandas dataframe\n",
    "data = pd.read_csv(BytesIO(blob.download_as_string()))\n",
    "pd.set_option('display.max_colwidth',-1)\n",
    "new = data[\"message\"].str.split(\"\\n\", n = 15, expand = True) \n",
    "\n",
    "data[\"from\"] = new[2]\n",
    "data[\"fromn\"] = new[8]\n",
    "data[\"to\"] = new[3]\n",
    "data[\"ton\"] = new[9]\n",
    "data[\"subject\"] = new[4]\n",
    "data[\"msg\"] = new[15]\n",
    "data.drop(columns =[\"message\"], inplace = True) \n",
    "data.drop(columns =[\"file\"], inplace = True) \n",
    "\n",
    "data['from'] = data[\"from\"].apply(lambda val: val.replace(\"From:\",''))\n",
    "data['fromn'] = data[\"fromn\"].apply(lambda val: val.replace(\"X-From:\",''))\n",
    "data['to'] = data[\"to\"].apply(lambda val: val.replace(\"To:\",''))\n",
    "data['ton'] = data[\"ton\"].apply(lambda val: val.replace(\"X-To:\",''))\n",
    "data['subject'] = data[\"subject\"].apply(lambda val: val.replace(\"Subject:\",''))\n",
    "data['msg'] = data[\"msg\"].apply(lambda val: val.replace(\"\\n\",' '))\n",
    "\n",
    "# Lets look only at emails with 100 words or less and that are Non-replies\n",
    "new_data=data[(data['msg'].str.len() <100) & ~(data['subject'].str.contains('Re:'))]"
   ]
  },
  {
   "cell_type": "code",
   "execution_count": 3,
   "metadata": {},
   "outputs": [],
   "source": [
    "# Creating an empty Dataframe with column names only\n",
    "text_body = pd.DataFrame(columns=['email'])\n",
    "text_body['email'] = data['msg']"
   ]
  },
  {
   "cell_type": "code",
   "execution_count": 4,
   "metadata": {},
   "outputs": [],
   "source": [
    "text_body.to_csv('data.txt', header=True, index=False, sep=' ', mode='a')"
   ]
  }
 ],
 "metadata": {
  "kernelspec": {
   "display_name": "Python 3",
   "language": "python",
   "name": "python3"
  },
  "language_info": {
   "codemirror_mode": {
    "name": "ipython",
    "version": 3
   },
   "file_extension": ".py",
   "mimetype": "text/x-python",
   "name": "python",
   "nbconvert_exporter": "python",
   "pygments_lexer": "ipython3",
   "version": "3.7.6"
  }
 },
 "nbformat": 4,
 "nbformat_minor": 4
}
